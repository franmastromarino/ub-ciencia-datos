{
  "cells": [
    {
      "cell_type": "markdown",
      "metadata": {
        "id": "view-in-github",
        "colab_type": "text"
      },
      "source": [
        "<a href=\"https://colab.research.google.com/github/franmastromarino/ub-ciencia-datos/blob/main/Clase_4_AssignmentCode_Part3.ipynb\" target=\"_parent\"><img src=\"https://colab.research.google.com/assets/colab-badge.svg\" alt=\"Open In Colab\"/></a>"
      ]
    },
    {
      "cell_type": "markdown",
      "source": [
        "# PROJECT 1 (PART 3)"
      ],
      "metadata": {
        "id": "rH1acboCsgbm"
      },
      "id": "rH1acboCsgbm"
    },
    {
      "cell_type": "code",
      "source": [
        "# Install libraries\n",
        "!pip install pyarrow\n",
        "!pip install pyshp\n",
        "!pip install shapely==1.7.1\n",
        "!pip install descartes"
      ],
      "metadata": {
        "id": "l18lKmQOJwj4",
        "colab": {
          "base_uri": "https://localhost:8080/"
        },
        "outputId": "ef40e647-96a9-4de3-f1ff-e0f5d644baed"
      },
      "id": "l18lKmQOJwj4",
      "execution_count": null,
      "outputs": [
        {
          "output_type": "stream",
          "name": "stdout",
          "text": [
            "Requirement already satisfied: pyarrow in /usr/local/lib/python3.10/dist-packages (9.0.0)\n",
            "Requirement already satisfied: numpy>=1.16.6 in /usr/local/lib/python3.10/dist-packages (from pyarrow) (1.23.5)\n",
            "Requirement already satisfied: pyshp in /usr/local/lib/python3.10/dist-packages (2.3.1)\n",
            "Collecting shapely==1.7.1\n",
            "  Downloading Shapely-1.7.1.tar.gz (383 kB)\n",
            "\u001b[2K     \u001b[90m━━━━━━━━━━━━━━━━━━━━━━━━━━━━━━━━━━━━━━━━\u001b[0m \u001b[32m383.2/383.2 kB\u001b[0m \u001b[31m6.5 MB/s\u001b[0m eta \u001b[36m0:00:00\u001b[0m\n",
            "\u001b[?25h  Preparing metadata (setup.py) ... \u001b[?25l\u001b[?25hdone\n",
            "Building wheels for collected packages: shapely\n",
            "  Building wheel for shapely (setup.py) ... \u001b[?25l\u001b[?25hdone\n",
            "  Created wheel for shapely: filename=Shapely-1.7.1-cp310-cp310-linux_x86_64.whl size=997158 sha256=744a4ad5cefed5a841c59d03538381d934e16687463e5a18110993cfccb607a8\n",
            "  Stored in directory: /root/.cache/pip/wheels/2e/fa/97/c85f587c35afcaf4a81c481741d36592518d1e50445572f0d4\n",
            "Successfully built shapely\n",
            "Installing collected packages: shapely\n",
            "  Attempting uninstall: shapely\n",
            "    Found existing installation: shapely 2.0.2\n",
            "    Uninstalling shapely-2.0.2:\n",
            "      Successfully uninstalled shapely-2.0.2\n",
            "\u001b[31mERROR: pip's dependency resolver does not currently take into account all the packages that are installed. This behaviour is the source of the following dependency conflicts.\n",
            "lida 0.0.10 requires fastapi, which is not installed.\n",
            "lida 0.0.10 requires kaleido, which is not installed.\n",
            "lida 0.0.10 requires python-multipart, which is not installed.\n",
            "lida 0.0.10 requires uvicorn, which is not installed.\u001b[0m\u001b[31m\n",
            "\u001b[0mSuccessfully installed shapely-1.7.1\n",
            "Collecting descartes\n",
            "  Downloading descartes-1.1.0-py3-none-any.whl (5.8 kB)\n",
            "Requirement already satisfied: matplotlib in /usr/local/lib/python3.10/dist-packages (from descartes) (3.7.1)\n",
            "Requirement already satisfied: contourpy>=1.0.1 in /usr/local/lib/python3.10/dist-packages (from matplotlib->descartes) (1.1.1)\n",
            "Requirement already satisfied: cycler>=0.10 in /usr/local/lib/python3.10/dist-packages (from matplotlib->descartes) (0.12.1)\n",
            "Requirement already satisfied: fonttools>=4.22.0 in /usr/local/lib/python3.10/dist-packages (from matplotlib->descartes) (4.43.1)\n",
            "Requirement already satisfied: kiwisolver>=1.0.1 in /usr/local/lib/python3.10/dist-packages (from matplotlib->descartes) (1.4.5)\n",
            "Requirement already satisfied: numpy>=1.20 in /usr/local/lib/python3.10/dist-packages (from matplotlib->descartes) (1.23.5)\n",
            "Requirement already satisfied: packaging>=20.0 in /usr/local/lib/python3.10/dist-packages (from matplotlib->descartes) (23.2)\n",
            "Requirement already satisfied: pillow>=6.2.0 in /usr/local/lib/python3.10/dist-packages (from matplotlib->descartes) (9.4.0)\n",
            "Requirement already satisfied: pyparsing>=2.3.1 in /usr/local/lib/python3.10/dist-packages (from matplotlib->descartes) (3.1.1)\n",
            "Requirement already satisfied: python-dateutil>=2.7 in /usr/local/lib/python3.10/dist-packages (from matplotlib->descartes) (2.8.2)\n",
            "Requirement already satisfied: six>=1.5 in /usr/local/lib/python3.10/dist-packages (from python-dateutil>=2.7->matplotlib->descartes) (1.16.0)\n",
            "Installing collected packages: descartes\n",
            "Successfully installed descartes-1.1.0\n"
          ]
        }
      ]
    },
    {
      "cell_type": "code",
      "source": [
        "# Import libraries - data processing\n",
        "import pandas as pd\n",
        "import numpy as np\n",
        "\n",
        "# Import libraries -  manipulation of files and downloads\n",
        "import os\n",
        "from tqdm.notebook import tqdm\n",
        "\n",
        "# Import libraries - visualitzation\n",
        "import seaborn as sns\n",
        "import matplotlib as mpl\n",
        "import matplotlib.pyplot as plt\n",
        "%matplotlib inline\n",
        "import shapefile\n",
        "from shapely.geometry import Polygon\n",
        "from descartes.patch import PolygonPatch"
      ],
      "metadata": {
        "id": "_uEvSTVqsgbs"
      },
      "execution_count": null,
      "outputs": [],
      "id": "_uEvSTVqsgbs"
    },
    {
      "cell_type": "code",
      "source": [
        "# Global variables\n",
        "YEARS = [2018, 2019, 2020, 2021, 2022]\n",
        "\n",
        "# Definition of the data path in Google Drive\n",
        "taxi_data_folder = '/content/drive/MyDrive/data'\n",
        "\n",
        "# Mount Google Drive (only required if running from Google Colab)\n",
        "from google.colab import drive\n",
        "drive.mount('/content/drive', force_remount=True)"
      ],
      "metadata": {
        "id": "4ht6Dz6ysgbs"
      },
      "execution_count": null,
      "outputs": [],
      "id": "4ht6Dz6ysgbs"
    },
    {
      "cell_type": "code",
      "source": [
        "# Import clean data\n",
        "df = pd.read_csv(f'{taxi_data_folder}/clean_data.csv')"
      ],
      "metadata": {
        "id": "C0GYQDnMsgbs"
      },
      "execution_count": null,
      "outputs": [],
      "id": "C0GYQDnMsgbs"
    },
    {
      "cell_type": "markdown",
      "id": "numerous-onion",
      "metadata": {
        "id": "numerous-onion"
      },
      "source": [
        "## 05. Visualize the locations of the trips"
      ]
    },
    {
      "cell_type": "code",
      "execution_count": null,
      "id": "solid-marker",
      "metadata": {
        "id": "solid-marker"
      },
      "outputs": [],
      "source": [
        "df.head()"
      ]
    },
    {
      "cell_type": "markdown",
      "id": "fantastic-admission",
      "metadata": {
        "id": "fantastic-admission"
      },
      "source": [
        "The data only has the ID of a location, so you need to add the latitude and longitude.\n",
        "\n",
        "This information is saved in *data/geodata/taxi_zones.shp*.\n",
        "\n",
        "The next cells can be understood as a black box."
      ]
    },
    {
      "cell_type": "code",
      "execution_count": null,
      "id": "challenging-desperate",
      "metadata": {
        "id": "challenging-desperate"
      },
      "outputs": [],
      "source": [
        "import sys\n",
        "utils_location = '/content/drive/My Drive/data'\n",
        "sys.path.append(utils_location)\n",
        "\n",
        "from utils import get_lat_lon, draw_region_map, draw_zone_map"
      ]
    },
    {
      "cell_type": "code",
      "execution_count": null,
      "id": "russian-responsibility",
      "metadata": {
        "tags": [],
        "id": "russian-responsibility"
      },
      "outputs": [],
      "source": [
        "sf = shapefile.Reader(f'./drive/MyDrive/data/geodata/taxi_zones.shp')\n",
        "\n",
        "fields_name = [field[0] for field in sf.fields[1:]]\n",
        "shp_dic = dict(zip(fields_name, list(range(len(fields_name)))))\n",
        "attributes = sf.records()\n",
        "shp_attr = [dict(zip(fields_name, attr)) for attr in attributes]"
      ]
    },
    {
      "cell_type": "code",
      "execution_count": null,
      "id": "finnish-paradise",
      "metadata": {
        "id": "finnish-paradise"
      },
      "outputs": [],
      "source": [
        "df_loc = pd.DataFrame(shp_attr).join(get_lat_lon(sf, shp_dic).set_index(\"LocationID\"), on=\"LocationID\")\n",
        "df_loc.head()"
      ]
    },
    {
      "cell_type": "code",
      "execution_count": null,
      "id": "approximate-trader",
      "metadata": {
        "tags": [],
        "id": "approximate-trader"
      },
      "outputs": [],
      "source": [
        "fig, ax = plt.subplots(nrows=1, ncols=2, figsize=(15,8))\n",
        "\n",
        "ax = plt.subplot(1, 2, 1)\n",
        "ax.set_title(\"Boroughs in NYC\")\n",
        "draw_region_map(ax, sf, shp_dic)\n",
        "\n",
        "ax = plt.subplot(1, 2, 2)\n",
        "ax.set_title(\"Zones in NYC\")\n",
        "draw_zone_map(ax, sf, shp_dic)"
      ]
    },
    {
      "cell_type": "code",
      "execution_count": null,
      "id": "conservative-expansion",
      "metadata": {
        "id": "conservative-expansion"
      },
      "outputs": [],
      "source": []
    },
    {
      "cell_type": "markdown",
      "id": "exempt-event",
      "metadata": {
        "id": "exempt-event"
      },
      "source": [
        "Now you have two dataframes that you need to join. Use the *pd.merge* function to add the longitude and latitude to the *df* dataframe:"
      ]
    },
    {
      "cell_type": "code",
      "execution_count": null,
      "id": "silent-trout",
      "metadata": {
        "id": "silent-trout"
      },
      "outputs": [],
      "source": [
        "merge = NotImplemented"
      ]
    },
    {
      "cell_type": "code",
      "execution_count": null,
      "id": "infectious-integer",
      "metadata": {
        "id": "infectious-integer"
      },
      "outputs": [],
      "source": [
        "merge.shape"
      ]
    },
    {
      "cell_type": "code",
      "execution_count": null,
      "id": "severe-peter",
      "metadata": {
        "id": "severe-peter"
      },
      "outputs": [],
      "source": []
    },
    {
      "cell_type": "markdown",
      "id": "round-synthetic",
      "metadata": {
        "id": "round-synthetic"
      },
      "source": [
        "## 06. Which are the areas/zones with more pick-up and drop-off?\n",
        "\n",
        "In this section, you have to visualize the areas where taxis are most used.\n",
        "\n",
        "The first step is to sort and save in a variable the most common places in the pick-up and drop-off.\n",
        "\n",
        "The variables *top_pu* and *top_do* contains a dataframe with columns: 'year', 'PULocationID', and 'count'."
      ]
    },
    {
      "cell_type": "code",
      "execution_count": null,
      "id": "precise-playback",
      "metadata": {
        "id": "precise-playback"
      },
      "outputs": [],
      "source": [
        "# Pick-up\n",
        "top_pickups = NotImplemented\n",
        "top_pickups.columns = ['year', 'PULocationID', 'count']\n",
        "\n",
        "# Drop-off\n",
        "top_dropoffs = NotImplemented\n",
        "top_dropoffs.columns = ['year', 'DOLocationID', 'count']"
      ]
    },
    {
      "cell_type": "code",
      "execution_count": null,
      "id": "vocal-adolescent",
      "metadata": {
        "id": "vocal-adolescent"
      },
      "outputs": [],
      "source": []
    },
    {
      "cell_type": "markdown",
      "id": "extreme-tennessee",
      "metadata": {
        "id": "extreme-tennessee"
      },
      "source": [
        "Print the 5 most frequent zones per year and in each case (pick-up and drop-off)."
      ]
    },
    {
      "cell_type": "code",
      "execution_count": null,
      "id": "concrete-sewing",
      "metadata": {
        "id": "concrete-sewing"
      },
      "outputs": [],
      "source": [
        "n_top = 5\n",
        "def show_top_n(df, column, df_loc, pickup_or_dropoff=\"pickup\", n_top = n_top):\n",
        "\n",
        "    \"\"\"\n",
        "    Function that print the most common zones by year\n",
        "    \"\"\"\n",
        "    return NotImplemented"
      ]
    },
    {
      "cell_type": "code",
      "execution_count": null,
      "id": "piano-outreach",
      "metadata": {
        "id": "piano-outreach"
      },
      "outputs": [],
      "source": [
        "# Show the main pick-up and drop-off areas using the improved function\n",
        "show_top_n(top_pickups, 'PULocationID', df_loc)"
      ]
    },
    {
      "cell_type": "code",
      "execution_count": null,
      "id": "flush-major",
      "metadata": {
        "id": "flush-major"
      },
      "outputs": [],
      "source": [
        "show_top_n(top_dropoffs, 'DOLocationID', df_loc)"
      ]
    },
    {
      "cell_type": "code",
      "execution_count": null,
      "id": "adjacent-harvard",
      "metadata": {
        "tags": [],
        "id": "adjacent-harvard"
      },
      "outputs": [],
      "source": []
    },
    {
      "cell_type": "markdown",
      "id": "suited-secretary",
      "metadata": {
        "id": "suited-secretary"
      },
      "source": [
        "**Let's see with a heat map which are the most common zones**"
      ]
    },
    {
      "cell_type": "code",
      "execution_count": null,
      "id": "environmental-insertion",
      "metadata": {
        "id": "environmental-insertion"
      },
      "outputs": [],
      "source": [
        "for year in YEARS:\n",
        "    PUcount = {k:v for k, v in top_pickups[top_pickups.year == year][['PULocationID', 'count']].values}\n",
        "    DOcount = {k:v for k, v in top_dropoffs[top_dropoffs.year == year][['DOLocationID', 'count']].values}\n",
        "\n",
        "    fig, ax = plt.subplots(nrows=1, ncols=2, figsize=(12,5))\n",
        "\n",
        "    ax = plt.subplot(1, 2, 1)\n",
        "    ax.set_title(f\"Zones with most pickups - {year}\")\n",
        "    draw_zone_map(ax, sf, shp_dic, heat=PUcount, text=list(PUcount.keys())[:3])\n",
        "\n",
        "    ax = plt.subplot(1, 2, 2)\n",
        "    ax.set_title(f\"Zones with most drop-offs - {year}\")\n",
        "    draw_zone_map(ax, sf, shp_dic, heat=PUcount, text=list(DOcount.keys())[:3])"
      ]
    },
    {
      "cell_type": "markdown",
      "id": "local-essence",
      "metadata": {
        "id": "local-essence"
      },
      "source": [
        "**Question: Why do you think the Manhattan area has more trips?**\n",
        "\n",
        "> ANSWER"
      ]
    },
    {
      "cell_type": "code",
      "execution_count": null,
      "id": "dense-sigma",
      "metadata": {
        "id": "dense-sigma"
      },
      "outputs": [],
      "source": []
    },
    {
      "cell_type": "markdown",
      "id": "running-alexandria",
      "metadata": {
        "id": "running-alexandria"
      },
      "source": [
        "## 07. Hospitals\n",
        "\n",
        "How has the travel destination changed? Are more people going to hospitals?\n",
        "\n",
        "In the next cell, there is a DataFrame with the most important hospitals in New York and their locations."
      ]
    },
    {
      "cell_type": "code",
      "execution_count": null,
      "id": "former-praise",
      "metadata": {
        "id": "former-praise"
      },
      "outputs": [],
      "source": [
        "hospitals = [('New York’s Presbyterian Lower Manhattan Hospital, NYC, NY, USA', '40.710255', '-74.005058'),\n",
        "('Manhattan Gastroenterology, NYC, NY, USA', '40.778259', '-73.958092'),\n",
        "('Stem Cell Therapy Hospital, NYC, NY, USA', '40.601517', '-73.961067'),\n",
        "('Park Avenue Smiles, Yonkers, NYC, NY, USA', '40.945873', '-73.890671'),\n",
        "('Cosmetic Dentistry Center, NYC, NY, USA', '40.629234', '-74.026077'),\n",
        "('Envy Smile Dental Spa, Brooklyn, NYC, NY, USA', '40.607059', '-73.960144'),\n",
        "('VIVA EVE, Forest Hills, NYC, NY, USA', '40.734291', '-73.849434'),\n",
        "('Forest Hills Medical Services, Queens, NYC, NY, USA', '40.734310', '-73.849510'),\n",
        "('Professional Gynecological Services, Brooklyn, NY, NY, USA', '40.689747', '-73.982346'),\n",
        "('Manhattan Womens Health & Wellness, New York, NY, USA', '40.741997', '-73.986107'),\n",
        "('Brooklyn Abortion Clinic, Brooklyn, NY, New York, USA', '40.689743', '-73.982368'),\n",
        "('Brooklyn GYN Place, Brooklyn, NY, USA', '40.692696', '-73.993584'),\n",
        "('Americas Holistic Doctor, NYC, NY, USA', '40.742531', '-73.985489'),\n",
        "('NJS Physical Medicine & Rehabilitation, Brooklyn, NY, USA', '40.641621', '-73.956734'),\n",
        "('DHD Medical, Brooklyn New York, USA', '40.625568', '-73.918320'),\n",
        "('Workers Compensation Doctor, New York, NY, USA', '40.652225', '-74.006104'),]\n",
        "\n",
        "hospitals = pd.DataFrame(hospitals, columns = ['Place Name', 'Latitude', 'Longitude'])\n",
        "hospitals['Latitude'] = hospitals['Latitude'].astype(float)\n",
        "hospitals['Longitude'] = hospitals['Longitude'].astype(float)\n",
        "hospitals.head()"
      ]
    },
    {
      "cell_type": "code",
      "execution_count": null,
      "id": "dental-genealogy",
      "metadata": {
        "id": "dental-genealogy"
      },
      "outputs": [],
      "source": []
    },
    {
      "cell_type": "markdown",
      "id": "norwegian-replacement",
      "metadata": {
        "id": "norwegian-replacement"
      },
      "source": [
        "Use the latitude and longitude of each hospital and the latitude and longitude of the zone (information in *merge* dataframe) to see the distribution of the hospitals \"on the map\".\n",
        "\n",
        "To do this, use a scatter plot. It will be better understood if the points are transparent (parameter *alpha*).\n",
        "\n",
        "Also, remember how the longitude and latitude data have to be plotted in the figure.\n",
        "\n",
        "Then repeat the same scatter plot but separated by years."
      ]
    },
    {
      "cell_type": "code",
      "execution_count": null,
      "id": "acute-creativity",
      "metadata": {
        "id": "acute-creativity"
      },
      "outputs": [],
      "source": [
        "def scatter_locations(merge, hospitals):\n",
        "    \"\"\"Function showing the distribution of hospitals and taxi destinations\"\"\"\n",
        "    return NotImplemented"
      ]
    },
    {
      "cell_type": "code",
      "execution_count": null,
      "id": "horizontal-gravity",
      "metadata": {
        "id": "horizontal-gravity"
      },
      "outputs": [],
      "source": [
        "scatter_locations(merge, hospitals)"
      ]
    },
    {
      "cell_type": "code",
      "execution_count": null,
      "id": "wanted-criticism",
      "metadata": {
        "id": "wanted-criticism"
      },
      "outputs": [],
      "source": [
        "def scatter_locations_per_year(merge, hospitals):\n",
        "    \"\"\"Function showing the distribution of hospitals and taxi destinations per year\"\"\"\n",
        "\n",
        "    return NotImplemented"
      ]
    },
    {
      "cell_type": "code",
      "execution_count": null,
      "id": "pending-familiar",
      "metadata": {
        "id": "pending-familiar"
      },
      "outputs": [],
      "source": [
        "scatter_locations_per_year(merge, hospitals)"
      ]
    },
    {
      "cell_type": "markdown",
      "id": "composite-consolidation",
      "metadata": {
        "id": "composite-consolidation"
      },
      "source": [
        "**Question: Do you see any behavior?**\n",
        "\n",
        ">ANSWER"
      ]
    },
    {
      "cell_type": "code",
      "execution_count": null,
      "id": "wicked-planning",
      "metadata": {
        "id": "wicked-planning"
      },
      "outputs": [],
      "source": []
    },
    {
      "cell_type": "markdown",
      "id": "approximate-space",
      "metadata": {
        "id": "approximate-space"
      },
      "source": [
        "### 07.1 In which zones are the hospitals?\n",
        "\n",
        "To find out how trips to hospitals have changed, you need to detect in which zone is each hospital.\n",
        "\n",
        "To do it, you need to calculate the distances between the hospitals and the zones.\n",
        "\n",
        "Do not calculate the distance point-to-point, but matrix-wise."
      ]
    },
    {
      "cell_type": "code",
      "execution_count": null,
      "id": "tight-hawaii",
      "metadata": {
        "id": "tight-hawaii"
      },
      "outputs": [],
      "source": [
        "from scipy.spatial import distance_matrix"
      ]
    },
    {
      "cell_type": "code",
      "execution_count": null,
      "id": "structural-design",
      "metadata": {
        "id": "structural-design"
      },
      "outputs": [],
      "source": [
        "hospitals_loc = hospitals[['Longitude', 'Latitude']].values\n",
        "loc = df_loc[['longitude', 'latitude']].values\n",
        "dist = NotImplemented"
      ]
    },
    {
      "cell_type": "code",
      "execution_count": null,
      "id": "arranged-arctic",
      "metadata": {
        "id": "arranged-arctic"
      },
      "outputs": [],
      "source": [
        "# Distances as an image\n",
        "plt.figure(figsize=(20, 5))\n",
        "plt.imshow(dist)"
      ]
    },
    {
      "cell_type": "code",
      "execution_count": null,
      "id": "administrative-sacrifice",
      "metadata": {
        "id": "administrative-sacrifice"
      },
      "outputs": [],
      "source": []
    },
    {
      "cell_type": "markdown",
      "id": "electoral-piece",
      "metadata": {
        "id": "electoral-piece"
      },
      "source": [
        "Find a way to locate the nearest sector based on distances."
      ]
    },
    {
      "cell_type": "code",
      "execution_count": null,
      "id": "stuck-eligibility",
      "metadata": {
        "id": "stuck-eligibility"
      },
      "outputs": [],
      "source": [
        "hospitals_locations = NotImplemented\n",
        "hospitals['LocationID'] = hospitals_locations"
      ]
    },
    {
      "cell_type": "code",
      "execution_count": null,
      "id": "specialized-fruit",
      "metadata": {
        "id": "specialized-fruit"
      },
      "outputs": [],
      "source": [
        "hospitals.head()"
      ]
    },
    {
      "cell_type": "code",
      "execution_count": null,
      "id": "twenty-detroit",
      "metadata": {
        "id": "twenty-detroit"
      },
      "outputs": [],
      "source": []
    },
    {
      "cell_type": "markdown",
      "id": "explicit-warrior",
      "metadata": {
        "id": "explicit-warrior"
      },
      "source": [
        "Now that you know the zone of each hospital, visualize how many trips are related to them.\n",
        "\n",
        "You will assume that all trips in the zone go to the hospital.\n",
        "\n",
        "Make a single figure with two bar plots showing the number of trips for each year and the % of total trips."
      ]
    },
    {
      "cell_type": "code",
      "execution_count": null,
      "id": "facial-spain",
      "metadata": {
        "id": "facial-spain"
      },
      "outputs": [],
      "source": [
        "def trips_hospitals(df, hospitals_locations):\n",
        "    \"\"\"\n",
        "    Function that displays a single figure with two bar plots showing the number of trips for each year and the % of total trips.\n",
        "    \"\"\"\n",
        "    return NotImplemented"
      ]
    },
    {
      "cell_type": "code",
      "execution_count": null,
      "id": "injured-summary",
      "metadata": {
        "id": "injured-summary"
      },
      "outputs": [],
      "source": [
        "trips_hospitals(df, hospitals_locations)"
      ]
    },
    {
      "cell_type": "markdown",
      "id": "accessory-collect",
      "metadata": {
        "id": "accessory-collect"
      },
      "source": [
        "## 08. Curiosity killed the cat\n",
        "\n",
        "In the **first part** you must view and comment on the examples you have removed, such as very long distances, very short distances...\n",
        "\n",
        "In the **second part** you are free to choose and make visualizations that bring you extra information that has not been seen before.\n",
        "\n",
        "- Detailed Temporal Analysis: You could investigate further how trips vary throughout the day, week, month or year. Perhaps there are daily (like rush hour) or weekly (weekend vs. weekday) patterns that might be of interest.\n",
        "\n",
        "- Rates: An analysis of how rates have changed over time could be interesting. Perhaps with less demand, rates have changed.\n",
        "\n",
        "- More Detailed Spatial Analysis: You could do more spatial analysis, such as identifying the most popular routes, or analyzing the density of pickups/deliveries in different areas.\n",
        "\n",
        "- Integrate External Data: Perhaps you could integrate weather data to see how the weather affects taxi journeys. You could also consider data about events in the city (such as sports matches, concerts, etc.) that could affect the demand for taxis."
      ]
    },
    {
      "cell_type": "code",
      "execution_count": null,
      "id": "interior-lincoln",
      "metadata": {
        "id": "interior-lincoln"
      },
      "outputs": [],
      "source": []
    }
  ],
  "metadata": {
    "kernelspec": {
      "display_name": "Python 3 (ipykernel)",
      "language": "python",
      "name": "python3"
    },
    "language_info": {
      "codemirror_mode": {
        "name": "ipython",
        "version": 3
      },
      "file_extension": ".py",
      "mimetype": "text/x-python",
      "name": "python",
      "nbconvert_exporter": "python",
      "pygments_lexer": "ipython3",
      "version": "3.8.17"
    },
    "colab": {
      "provenance": [],
      "toc_visible": true,
      "include_colab_link": true
    }
  },
  "nbformat": 4,
  "nbformat_minor": 5
}